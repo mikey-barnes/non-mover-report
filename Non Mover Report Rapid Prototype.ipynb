{
 "cells": [
  {
   "cell_type": "code",
   "execution_count": 18,
   "id": "d5f4eece-658f-49ef-a4ab-a28a2536ccb1",
   "metadata": {},
   "outputs": [],
   "source": [
    "import csv"
   ]
  },
  {
   "cell_type": "markdown",
   "id": "1ecb6cb1-4984-43f2-a59d-375fdc7c7ab9",
   "metadata": {},
   "source": [
    "Look at each sku from the products_csv and see if it is in sales_csv. If it is not, append it to the non-sellers report."
   ]
  },
  {
   "cell_type": "code",
   "execution_count": 24,
   "id": "eb66f4ea-0a5a-4f5a-8a0d-d10e53b27e23",
   "metadata": {},
   "outputs": [],
   "source": [
    "sold_skus = list()"
   ]
  },
  {
   "cell_type": "code",
   "execution_count": 38,
   "id": "dfbd0221-34b2-4781-b8b9-3102e3786f24",
   "metadata": {},
   "outputs": [],
   "source": [
    "with open(\"sales_data.csv\") as sales_csv, open(\"product-export.csv\") as products_csv:\n",
    "    sales_reader = csv.DictReader(sales_csv)\n",
    "    products_reader = csv.DictReader(products_csv)\n",
    "    products_sku_list = list()\n",
    "    for product in products_reader:\n",
    "        products_sku_list.append(product[\"sku\"])\n",
    "    products_sku_set = set(products_sku_list)\n",
    "    sales_sku_list = list()\n",
    "    for product in sales_reader:\n",
    "        sales_sku_list.append(product[\"SKU\"])\n",
    "    sales_sku_set = set(sales_sku_list)\n",
    "    "
   ]
  },
  {
   "cell_type": "code",
   "execution_count": 40,
   "id": "f09065b3-2fd5-4544-a4d6-0f1a12118fdb",
   "metadata": {},
   "outputs": [
    {
     "data": {
      "text/plain": [
       "103"
      ]
     },
     "execution_count": 40,
     "metadata": {},
     "output_type": "execute_result"
    }
   ],
   "source": [
    "len(products_sku_set)"
   ]
  },
  {
   "cell_type": "code",
   "execution_count": 41,
   "id": "20a71a2f-dbde-4ac6-afac-f6c5712b12ff",
   "metadata": {},
   "outputs": [
    {
     "data": {
      "text/plain": [
       "82"
      ]
     },
     "execution_count": 41,
     "metadata": {},
     "output_type": "execute_result"
    }
   ],
   "source": [
    "len(sales_sku_set)"
   ]
  },
  {
   "cell_type": "code",
   "execution_count": 43,
   "id": "1791988d-a530-46af-bb2e-0e4c1f9b3873",
   "metadata": {},
   "outputs": [],
   "source": [
    "non_movers = [sku for sku in products_sku_set if sku not in sales_sku_set]"
   ]
  },
  {
   "cell_type": "code",
   "execution_count": 44,
   "id": "15d84e8a-d56d-4175-b1a3-64a096cedb3b",
   "metadata": {},
   "outputs": [
    {
     "name": "stdout",
     "output_type": "stream",
     "text": [
      "['5013969900385', '5013969900095', '5013969248432', '5013969904109', '5013969980387', '5013969900873', '5013969900910', '5013969986518', '5013969248456', '5013969904086', '5013969703993', '5013969248449', '5013969781342', '5013969001013', '5013969900323', '5013969900859', '5013969900606', '5013969904024', '5013969901030', '5013969063127', '5013969901238', '5013969900446', '5013969047868']\n"
     ]
    }
   ],
   "source": [
    "print(non_movers)"
   ]
  },
  {
   "cell_type": "code",
   "execution_count": null,
   "id": "f50c9def-e170-41f0-8ac4-4d9d0d47074c",
   "metadata": {},
   "outputs": [],
   "source": []
  }
 ],
 "metadata": {
  "kernelspec": {
   "display_name": "Python 3 (ipykernel)",
   "language": "python",
   "name": "python3"
  },
  "language_info": {
   "codemirror_mode": {
    "name": "ipython",
    "version": 3
   },
   "file_extension": ".py",
   "mimetype": "text/x-python",
   "name": "python",
   "nbconvert_exporter": "python",
   "pygments_lexer": "ipython3",
   "version": "3.12.2"
  }
 },
 "nbformat": 4,
 "nbformat_minor": 5
}
