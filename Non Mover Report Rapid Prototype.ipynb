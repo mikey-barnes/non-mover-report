{
 "cells": [
  {
   "cell_type": "code",
   "execution_count": 134,
   "id": "d5f4eece-658f-49ef-a4ab-a28a2536ccb1",
   "metadata": {},
   "outputs": [],
   "source": [
    "import csv"
   ]
  },
  {
   "cell_type": "code",
   "execution_count": 135,
   "id": "9f1ddeeb-842c-4c63-be3d-b52acccb1fe8",
   "metadata": {},
   "outputs": [],
   "source": [
    "with open(\"sales_data.csv\", errors=\"ignore\", newline='') as sales_csv, open(\"product-export.csv\", errors=\"ignore\", newline='') as products_csv:\n",
    "\n",
    "    \n",
    "    sales_reader = csv.DictReader(sales_csv)\n",
    "    products_reader = csv.DictReader(products_csv)\n",
    "    \n",
    "    #parse products csv\n",
    "    products_sku_list = list()\n",
    "    for product in products_reader:\n",
    "        products_sku_list.append(product[\"sku\"])\n",
    "    \n",
    "    #parse sales csv\n",
    "    sales_sku_list = list()\n",
    "    for product in sales_reader:\n",
    "        sales_sku_list.append(product[\"SKU\"])\n",
    "\n",
    "    non_movers_sku_list = [sku for sku in products_sku_list if sku not in sales_sku_list]\n",
    "\n",
    "with open(\"product-export.csv\", errors=\"ignore\", newline='') as products_csv, open(\"non_movers.csv\", \"w\", newline='') as non_movers_csv:\n",
    "    products_reader = csv.DictReader(products_csv)\n",
    "    field_names = products_reader.fieldnames\n",
    "    non_movers_writer = csv.DictWriter(non_movers_csv, fieldnames=field_names)\n",
    "    non_movers_writer.writeheader()\n",
    "\n",
    "    for product in products_reader:\n",
    "        if product[\"sku\"] in non_movers_sku_list:\n",
    "            non_movers_writer.writerow(product)\n",
    "\n",
    "    \n",
    "        "
   ]
  },
  {
   "cell_type": "code",
   "execution_count": null,
   "id": "8eaf6cfb-a655-4451-845e-f7e684f735fb",
   "metadata": {},
   "outputs": [],
   "source": []
  },
  {
   "cell_type": "code",
   "execution_count": null,
   "id": "195bf32b-38f9-489d-8c76-1dc883f5a18f",
   "metadata": {},
   "outputs": [],
   "source": []
  }
 ],
 "metadata": {
  "kernelspec": {
   "display_name": "Python 3 (ipykernel)",
   "language": "python",
   "name": "python3"
  },
  "language_info": {
   "codemirror_mode": {
    "name": "ipython",
    "version": 3
   },
   "file_extension": ".py",
   "mimetype": "text/x-python",
   "name": "python",
   "nbconvert_exporter": "python",
   "pygments_lexer": "ipython3",
   "version": "3.12.2"
  }
 },
 "nbformat": 4,
 "nbformat_minor": 5
}
